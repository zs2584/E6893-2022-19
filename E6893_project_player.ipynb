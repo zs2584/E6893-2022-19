{
  "nbformat": 4,
  "nbformat_minor": 0,
  "metadata": {
    "colab": {
      "provenance": []
    },
    "kernelspec": {
      "name": "python3",
      "display_name": "Python 3"
    },
    "language_info": {
      "name": "python"
    }
  },
  "cells": [
    {
      "cell_type": "code",
      "execution_count": 1,
      "metadata": {
        "id": "oCDQDBQt3rUh"
      },
      "outputs": [],
      "source": [
        "import pandas as pd\n",
        "import numpy as np\n",
        "from sklearn.linear_model import LogisticRegression\n",
        "from sklearn.naive_bayes import GaussianNB\n",
        "from sklearn.ensemble import RandomForestClassifier\n",
        "from sklearn.neural_network import MLPClassifier\n",
        "from sklearn.svm import SVC\n",
        "from sklearn.neighbors import KNeighborsClassifier\n",
        "from sklearn import preprocessing\n",
        "from sklearn.model_selection import train_test_split"
      ]
    },
    {
      "cell_type": "code",
      "source": [
        "player_data = pd.read_csv(\"Player Totals.csv\")\n",
        "award_data = pd.read_csv(\"Player Award Shares.csv\")"
      ],
      "metadata": {
        "id": "abM2D7fu-6x2"
      },
      "execution_count": 2,
      "outputs": []
    },
    {
      "cell_type": "code",
      "source": [
        "award_data = award_data[award_data[\"award\"] == 'nba mvp']\n",
        "#print(award_data)"
      ],
      "metadata": {
        "id": "DygGOV6Z_C4z"
      },
      "execution_count": 3,
      "outputs": []
    },
    {
      "cell_type": "code",
      "source": [
        "player_data.insert(0, 'MVP', False)\n",
        "for index, row in award_data.iterrows():\n",
        "    player_data['MVP'] = np.where((player_data['season'] == row['season']) & (player_data['player'] == row['player']) , True, player_data['MVP'])\n",
        "player_data = player_data.fillna(0)\n",
        "testing = player_data[player_data['season'] == 2023]\n",
        "player_names = testing[['player']].values\n",
        "test_data = testing[[\"pts\", \"fg\", \"fg_percent\",\t\"x3p\",\t\"x3p_percent\",\t\"x2p\", \"x2p_percent\", \"e_fg_percent\", \"trb\",\t\"ast\",\t\"stl\",\t\"blk\", \"trb_per_game\", \"ast_per_game\", \"stl_per_game\", \"blk_per_game\", \"pts_per_game\"]].values\n",
        "test_data = preprocessing.StandardScaler().fit_transform(test_data)\n",
        "\n",
        "player_data = player_data[player_data['MVP'] == True]\n",
        "award_data = award_data[award_data[\"winner\"] == False].reset_index(drop=True)\n",
        "for index, row in award_data.iterrows():\n",
        "    player_data['MVP'] = np.where((player_data['season'] == row['season']) & (player_data['player'] == row['player']) , False, player_data['MVP'])\n",
        "#print(player_data)"
      ],
      "metadata": {
        "id": "T2Hq3omCAlIv"
      },
      "execution_count": 4,
      "outputs": []
    },
    {
      "cell_type": "code",
      "source": [
        "training = player_data[player_data['season'] >= 1980]\n",
        "training = player_data[player_data['season'] != 2023]\n",
        "X = training[[\"pts\", \"fg\", \"fg_percent\",\t\"x3p\",\t\"x3p_percent\",\t\"x2p\", \"x2p_percent\",\t\"e_fg_percent\",\"trb\",\t\"ast\",\t\"stl\",\t\"blk\", \"trb_per_game\", \"ast_per_game\", \"stl_per_game\", \"blk_per_game\", \"pts_per_game\"]].values\n",
        "y = training['MVP'].values\n",
        "X = preprocessing.StandardScaler().fit_transform(X)\n",
        "X_train, X_test, y_train, y_test = train_test_split(X, y, test_size=0.3, random_state=42)"
      ],
      "metadata": {
        "id": "E4B5hc0EE2m4"
      },
      "execution_count": 5,
      "outputs": []
    },
    {
      "cell_type": "code",
      "source": [
        "lr = LogisticRegression(random_state=0).fit(X_train, y_train)\n",
        "print(lr.score(X_test, y_test))"
      ],
      "metadata": {
        "colab": {
          "base_uri": "https://localhost:8080/"
        },
        "id": "kyIzdBdEnk7-",
        "outputId": "93e66233-dd0b-4ce7-fdab-74902509e985"
      },
      "execution_count": 6,
      "outputs": [
        {
          "output_type": "stream",
          "name": "stdout",
          "text": [
            "0.9333333333333333\n"
          ]
        }
      ]
    },
    {
      "cell_type": "code",
      "source": [
        "nb = GaussianNB().fit(X_train, y_train)\n",
        "print(nb.score(X_test, y_test))"
      ],
      "metadata": {
        "colab": {
          "base_uri": "https://localhost:8080/"
        },
        "id": "v60NWyOEnmD2",
        "outputId": "80122328-b240-4db6-b266-077915f6bb65"
      },
      "execution_count": 7,
      "outputs": [
        {
          "output_type": "stream",
          "name": "stdout",
          "text": [
            "0.8888888888888888\n"
          ]
        }
      ]
    },
    {
      "cell_type": "code",
      "source": [
        "rf = RandomForestClassifier(max_depth=10, random_state=0).fit(X_train, y_train)\n",
        "print(rf.score(X_test, y_test))"
      ],
      "metadata": {
        "colab": {
          "base_uri": "https://localhost:8080/"
        },
        "id": "X2l-iAPonqNu",
        "outputId": "64f4f31d-4365-4a71-b6d5-405f84376d52"
      },
      "execution_count": 8,
      "outputs": [
        {
          "output_type": "stream",
          "name": "stdout",
          "text": [
            "0.9301587301587302\n"
          ]
        }
      ]
    },
    {
      "cell_type": "code",
      "source": [
        "mlp = MLPClassifier(random_state=42, max_iter=10000).fit(X_train, y_train)\n",
        "print(mlp.score(X_test, y_test))"
      ],
      "metadata": {
        "colab": {
          "base_uri": "https://localhost:8080/"
        },
        "id": "sUKKZqoKnsxg",
        "outputId": "d3effdb1-9845-471a-dfd4-d3d503f0b2f9"
      },
      "execution_count": 9,
      "outputs": [
        {
          "output_type": "stream",
          "name": "stdout",
          "text": [
            "0.9206349206349206\n"
          ]
        }
      ]
    },
    {
      "cell_type": "code",
      "source": [
        "knn = KNeighborsClassifier().fit(X_train, y_train)\n",
        "print(knn.score(X_test, y_test))"
      ],
      "metadata": {
        "colab": {
          "base_uri": "https://localhost:8080/"
        },
        "id": "99Eq2L1LntTs",
        "outputId": "fe230703-2a7b-42c2-ca71-483f2e6c981c"
      },
      "execution_count": 10,
      "outputs": [
        {
          "output_type": "stream",
          "name": "stdout",
          "text": [
            "0.9238095238095239\n"
          ]
        }
      ]
    },
    {
      "cell_type": "code",
      "source": [
        "svc = SVC().fit(X_train, y_train)\n",
        "print(svc.score(X_test, y_test))"
      ],
      "metadata": {
        "colab": {
          "base_uri": "https://localhost:8080/"
        },
        "id": "VDCS846THKn3",
        "outputId": "98bfc851-b6af-4213-9d2e-59e17719a630"
      },
      "execution_count": 11,
      "outputs": [
        {
          "output_type": "stream",
          "name": "stdout",
          "text": [
            "0.9333333333333333\n"
          ]
        }
      ]
    },
    {
      "cell_type": "code",
      "source": [
        "LR_final = LogisticRegression(random_state=0).fit(X, y)\n",
        "predictions = LR_final.predict_proba(test_data)\n",
        "predictions = predictions[:,1].reshape(-1,1)\n",
        "result = np.hstack((player_names, predictions))\n",
        "#result = sorted(result, key=lambda x : -x[1])\n",
        "#df = pd.DataFrame(result, columns = ['Player Name', 'p(MVP)'])\n",
        "#df.to_csv('Player MVP.csv', index=None)\n",
        "#print(df)\n"
      ],
      "metadata": {
        "id": "a0WrrSIJnu1N"
      },
      "execution_count": 12,
      "outputs": []
    },
    {
      "cell_type": "code",
      "source": [
        "player_data = pd.read_csv(\"Player Totals.csv\")\n",
        "award_data = pd.read_csv(\"Player Award Shares.csv\")"
      ],
      "metadata": {
        "id": "ezgPnJwHobMV"
      },
      "execution_count": 13,
      "outputs": []
    },
    {
      "cell_type": "code",
      "source": [
        "award_data = award_data[award_data[\"award\"] == 'dpoy']\n",
        "player_data.insert(0, 'dpoy', False)\n",
        "for index, row in award_data.iterrows():\n",
        "    player_data['dpoy'] = np.where((player_data['season'] == row['season']) & (player_data['player'] == row['player']), True, player_data['dpoy'])\n",
        "player_data = player_data.fillna(0)\n",
        "testing = player_data[player_data['season'] == 2023]\n",
        "test_data = testing[[\"drb\",\t\"stl\",\t\"blk\", \"drb_per_game\", \"stl_per_game\", \"blk_per_game\"]].values\n",
        "test_data = preprocessing.StandardScaler().fit_transform(test_data)\n",
        "\n",
        "player_data = player_data[player_data['dpoy'] == True]\n",
        "award_data = award_data[award_data[\"winner\"] == False].reset_index(drop=True)\n",
        "for index, row in award_data.iterrows():\n",
        "    player_data['dpoy'] = np.where((player_data['season'] == row['season']) & (player_data['player'] == row['player']) , False, player_data['dpoy'])"
      ],
      "metadata": {
        "id": "AzfmHNupQMn4"
      },
      "execution_count": 14,
      "outputs": []
    },
    {
      "cell_type": "code",
      "source": [
        "training = player_data[player_data['season'] >= 1980]\n",
        "training = player_data[player_data['season'] != 2023]\n",
        "X = training[[\"drb\",\t\"stl\",\t\"blk\", \"drb_per_game\", \"stl_per_game\", \"blk_per_game\"]].values\n",
        "y = training['dpoy'].values\n",
        "X = preprocessing.StandardScaler().fit_transform(X)\n",
        "X_train, X_test, y_train, y_test = train_test_split(X, y, test_size=0.3, random_state=42)"
      ],
      "metadata": {
        "id": "OnOQfhjcu3fj"
      },
      "execution_count": 15,
      "outputs": []
    },
    {
      "cell_type": "code",
      "source": [
        "lr = LogisticRegression(random_state=0).fit(X_train, y_train)\n",
        "print(lr.score(X_test, y_test))"
      ],
      "metadata": {
        "colab": {
          "base_uri": "https://localhost:8080/"
        },
        "id": "LcOR26K0u7wI",
        "outputId": "3c51a423-8f28-49ed-8870-bc65fcfc6767"
      },
      "execution_count": 16,
      "outputs": [
        {
          "output_type": "stream",
          "name": "stdout",
          "text": [
            "0.9147727272727273\n"
          ]
        }
      ]
    },
    {
      "cell_type": "code",
      "source": [
        "nb = GaussianNB().fit(X_train, y_train)\n",
        "print(nb.score(X_test, y_test))"
      ],
      "metadata": {
        "colab": {
          "base_uri": "https://localhost:8080/"
        },
        "id": "kt8lC8K4u9yw",
        "outputId": "b9961f0e-1d0e-45cc-e048-23484787d0dd"
      },
      "execution_count": 17,
      "outputs": [
        {
          "output_type": "stream",
          "name": "stdout",
          "text": [
            "0.8522727272727273\n"
          ]
        }
      ]
    },
    {
      "cell_type": "code",
      "source": [
        "rf = RandomForestClassifier(max_depth=10, random_state=0).fit(X_train, y_train)\n",
        "print(rf.score(X_test, y_test))"
      ],
      "metadata": {
        "colab": {
          "base_uri": "https://localhost:8080/"
        },
        "id": "gIt71vctu_wJ",
        "outputId": "2843d2b0-a32b-4899-e539-1df85b7261ad"
      },
      "execution_count": 18,
      "outputs": [
        {
          "output_type": "stream",
          "name": "stdout",
          "text": [
            "0.9090909090909091\n"
          ]
        }
      ]
    },
    {
      "cell_type": "code",
      "source": [
        "mlp = MLPClassifier(random_state=42, max_iter=10000).fit(X_train, y_train)\n",
        "print(mlp.score(X_test, y_test))"
      ],
      "metadata": {
        "colab": {
          "base_uri": "https://localhost:8080/"
        },
        "id": "dkfBNI79vBpm",
        "outputId": "16986391-97d1-40fa-cacc-f71df0e6f43c"
      },
      "execution_count": 19,
      "outputs": [
        {
          "output_type": "stream",
          "name": "stdout",
          "text": [
            "0.9147727272727273\n"
          ]
        }
      ]
    },
    {
      "cell_type": "code",
      "source": [
        "knn = KNeighborsClassifier().fit(X_train, y_train)\n",
        "print(knn.score(X_test, y_test))"
      ],
      "metadata": {
        "colab": {
          "base_uri": "https://localhost:8080/"
        },
        "id": "71vJUpWxvDdO",
        "outputId": "96cae258-d67d-4586-8f77-99b344635981"
      },
      "execution_count": 20,
      "outputs": [
        {
          "output_type": "stream",
          "name": "stdout",
          "text": [
            "0.9090909090909091\n"
          ]
        }
      ]
    },
    {
      "cell_type": "code",
      "source": [
        "svc = SVC().fit(X_train, y_train)\n",
        "print(svc.score(X_test, y_test))"
      ],
      "metadata": {
        "colab": {
          "base_uri": "https://localhost:8080/"
        },
        "id": "udYstv7mNNW1",
        "outputId": "f118daf9-8705-424b-81b8-907771fdbb99"
      },
      "execution_count": 21,
      "outputs": [
        {
          "output_type": "stream",
          "name": "stdout",
          "text": [
            "0.9147727272727273\n"
          ]
        }
      ]
    },
    {
      "cell_type": "code",
      "source": [
        "LR_final = LogisticRegression(random_state=0).fit(X, y)\n",
        "predictions = LR_final.predict_proba(test_data)\n",
        "predictions = predictions[:,1].reshape(-1,1)\n",
        "result = np.hstack((result, predictions))\n",
        "#result = sorted(result, key=lambda x : -x[1])\n",
        "#df = pd.DataFrame(result, columns = ['Player Name', 'p(DPOY)'])\n",
        "#df.to_csv('Player dpoy.csv', index=None)\n",
        "#print(df)\n"
      ],
      "metadata": {
        "id": "3nI7hDY_vYaH"
      },
      "execution_count": 22,
      "outputs": []
    },
    {
      "cell_type": "code",
      "source": [
        "player_data = pd.read_csv(\"Player Totals.csv\")\n",
        "award_data = pd.read_csv(\"Player Award Shares.csv\")"
      ],
      "metadata": {
        "id": "3SVBT-QNJuwE"
      },
      "execution_count": 23,
      "outputs": []
    },
    {
      "cell_type": "code",
      "source": [
        "award_data = award_data[award_data[\"award\"] == 'nba roy']\n",
        "player_data = player_data[player_data['experience'] <= 1]\n",
        "player_data.insert(0, 'roy', False)\n",
        "for index, row in award_data.iterrows():\n",
        "    player_data['roy'] = np.where((player_data['season'] == row['season']) & (player_data['player'] == row['player']) , True, player_data['roy'])\n",
        "player_data = player_data.fillna(0)\n",
        "testing = player_data[player_data['season'] == 2023]\n",
        "rookie_names = testing[['player']].values\n",
        "test_data = testing[[\"pts\", \"fg\", \"fg_percent\",\t\"x3p\",\t\"x3p_percent\",\t\"x2p\", \"x2p_percent\", \"e_fg_percent\", \"trb\",\t\"ast\",\t\"stl\",\t\"blk\", \"trb_per_game\", \"ast_per_game\", \"stl_per_game\", \"blk_per_game\", \"pts_per_game\"]].values\n",
        "test_data = preprocessing.StandardScaler().fit_transform(test_data)\n",
        "\n",
        "player_data = player_data[player_data['roy'] == True]\n",
        "award_data = award_data[award_data[\"winner\"] == False].reset_index(drop=True)\n",
        "for index, row in award_data.iterrows():\n",
        "    player_data['roy'] = np.where((player_data['season'] == row['season']) & (player_data['player'] == row['player']) , False, player_data['roy'])"
      ],
      "metadata": {
        "id": "6Vmu-C4QKr2N",
        "colab": {
          "base_uri": "https://localhost:8080/"
        },
        "outputId": "89331421-14cb-4441-ed51-b6d88ed4043f"
      },
      "execution_count": 24,
      "outputs": [
        {
          "output_type": "stream",
          "name": "stderr",
          "text": [
            "<ipython-input-24-0210f916d904>:5: SettingWithCopyWarning: \n",
            "A value is trying to be set on a copy of a slice from a DataFrame.\n",
            "Try using .loc[row_indexer,col_indexer] = value instead\n",
            "\n",
            "See the caveats in the documentation: https://pandas.pydata.org/pandas-docs/stable/user_guide/indexing.html#returning-a-view-versus-a-copy\n",
            "  player_data['roy'] = np.where((player_data['season'] == row['season']) & (player_data['player'] == row['player']) , True, player_data['roy'])\n"
          ]
        }
      ]
    },
    {
      "cell_type": "code",
      "source": [
        "training = player_data[player_data['season'] >= 1980]\n",
        "training = player_data[player_data['season'] != 2023]\n",
        "X = training[[\"pts\", \"fg\", \"fg_percent\",\t\"x3p\",\t\"x3p_percent\",\t\"x2p\", \"x2p_percent\",\t\"e_fg_percent\",\"trb\",\t\"ast\",\t\"stl\",\t\"blk\", \"trb_per_game\", \"ast_per_game\", \"stl_per_game\", \"blk_per_game\", \"pts_per_game\"]].values\n",
        "y = training['roy'].values\n",
        "X = preprocessing.StandardScaler().fit_transform(X)\n",
        "X_train, X_test, y_train, y_test = train_test_split(X, y, test_size=0.3, random_state=42)"
      ],
      "metadata": {
        "id": "kg84XlGBO_Jg"
      },
      "execution_count": 25,
      "outputs": []
    },
    {
      "cell_type": "code",
      "source": [
        "lr = LogisticRegression(random_state=0).fit(X_train, y_train)\n",
        "print(lr.score(X_test, y_test))"
      ],
      "metadata": {
        "colab": {
          "base_uri": "https://localhost:8080/"
        },
        "id": "T2YpizBsPC3J",
        "outputId": "0d8e571a-89d3-4c10-db62-b6c3d11cc375"
      },
      "execution_count": 26,
      "outputs": [
        {
          "output_type": "stream",
          "name": "stdout",
          "text": [
            "0.8736842105263158\n"
          ]
        }
      ]
    },
    {
      "cell_type": "code",
      "source": [
        "nb = GaussianNB().fit(X_train, y_train)\n",
        "print(nb.score(X_test, y_test))"
      ],
      "metadata": {
        "colab": {
          "base_uri": "https://localhost:8080/"
        },
        "id": "TMZ_HwCWPDR_",
        "outputId": "bb3ff18a-f378-4769-b607-e6d221fb8d07"
      },
      "execution_count": 27,
      "outputs": [
        {
          "output_type": "stream",
          "name": "stdout",
          "text": [
            "0.8421052631578947\n"
          ]
        }
      ]
    },
    {
      "cell_type": "code",
      "source": [
        "rf = RandomForestClassifier(max_depth=10, random_state=0).fit(X_train, y_train)\n",
        "print(rf.score(X_test, y_test))"
      ],
      "metadata": {
        "colab": {
          "base_uri": "https://localhost:8080/"
        },
        "id": "5vVxpZXiPFEz",
        "outputId": "7b5fe099-0dce-40b5-bc4c-f50dee475c56"
      },
      "execution_count": 28,
      "outputs": [
        {
          "output_type": "stream",
          "name": "stdout",
          "text": [
            "0.8315789473684211\n"
          ]
        }
      ]
    },
    {
      "cell_type": "code",
      "source": [
        "mlp = MLPClassifier(random_state=42, max_iter=10000).fit(X_train, y_train)\n",
        "print(mlp.score(X_test, y_test))"
      ],
      "metadata": {
        "colab": {
          "base_uri": "https://localhost:8080/"
        },
        "id": "-SZjcekJPGpk",
        "outputId": "d4e9a503-d737-461b-fe81-35f876931518"
      },
      "execution_count": 29,
      "outputs": [
        {
          "output_type": "stream",
          "name": "stdout",
          "text": [
            "0.8631578947368421\n"
          ]
        }
      ]
    },
    {
      "cell_type": "code",
      "source": [
        "knn = KNeighborsClassifier().fit(X_train, y_train)\n",
        "print(knn.score(X_test, y_test))"
      ],
      "metadata": {
        "colab": {
          "base_uri": "https://localhost:8080/"
        },
        "id": "ER4XnYUBPIpb",
        "outputId": "6880cb74-a732-4b03-f7ab-fafaac260d5a"
      },
      "execution_count": 30,
      "outputs": [
        {
          "output_type": "stream",
          "name": "stdout",
          "text": [
            "0.7894736842105263\n"
          ]
        }
      ]
    },
    {
      "cell_type": "code",
      "source": [
        "svc = SVC().fit(X_train, y_train)\n",
        "print(svc.score(X_test, y_test))"
      ],
      "metadata": {
        "colab": {
          "base_uri": "https://localhost:8080/"
        },
        "id": "jzMxDw2kNZ7Z",
        "outputId": "d2f974f3-2ee6-4575-849a-80084236bed6"
      },
      "execution_count": 31,
      "outputs": [
        {
          "output_type": "stream",
          "name": "stdout",
          "text": [
            "0.8105263157894737\n"
          ]
        }
      ]
    },
    {
      "cell_type": "code",
      "source": [
        "LR_final = LogisticRegression(random_state=0).fit(X, y)\n",
        "predictions = LR_final.predict_proba(test_data)\n",
        "predictions = predictions[:,1].reshape(-1,1)\n",
        "\n",
        "result = np.hstack((result, np.zeros(player_names.shape)))\n",
        "#result = sorted(result, key=lambda x : -x[1])\n",
        "#df = pd.DataFrame(result, columns = ['Player Name', 'p(roy)'])\n",
        "#for index, row in award_data.iterrows():\n",
        "    #df['p(roy)'] = np.where((player_data['season'] == row['season']) & (player_data['player'] == row['player']) , False, player_data['roy'])\n"
      ],
      "metadata": {
        "id": "MkFL0qVlRw8v"
      },
      "execution_count": 32,
      "outputs": []
    },
    {
      "cell_type": "code",
      "source": [
        "index = np.where(result[:,0] == rookie_names)[1]\n",
        "j=0\n",
        "for i in index:\n",
        "  result[i][3] = predictions[j][0]\n",
        "  j += 1\n",
        "print(result)"
      ],
      "metadata": {
        "colab": {
          "base_uri": "https://localhost:8080/"
        },
        "id": "j54p1vgNba-P",
        "outputId": "1cfd9020-1d3a-4c3c-a0ee-4b5dd6d31903"
      },
      "execution_count": 33,
      "outputs": [
        {
          "output_type": "stream",
          "name": "stdout",
          "text": [
            "[['A.J. Green' 0.0008093650650280947 0.01072426339225418\n",
            "  0.007088055037865785]\n",
            " ['A.J. Lawson' 0.0027298743839891276 0.014222035494533165\n",
            "  0.014046996284209363]\n",
            " ['Aaron Gordon' 0.3769596768703109 0.14828274956906737 0.0]\n",
            " ...\n",
            " ['Zach LaVine' 0.2721358388142685 0.05149800693934051 0.0]\n",
            " ['Zeke Nnaji' 0.0022131564137340947 0.013776547848415735 0.0]\n",
            " ['Zion Williamson' 0.4437932461110177 0.13118835495295053 0.0]]\n"
          ]
        }
      ]
    },
    {
      "cell_type": "code",
      "source": [
        "player_data = pd.read_csv(\"Player Totals.csv\")\n",
        "award_data = pd.read_csv(\"Player Award Shares.csv\")"
      ],
      "metadata": {
        "id": "KQ99m10xfFSP"
      },
      "execution_count": 34,
      "outputs": []
    },
    {
      "cell_type": "code",
      "source": [
        "award_data = award_data[award_data[\"award\"] == 'smoy']\n",
        "player_data.insert(0, 'smoy', False)\n",
        "for index, row in award_data.iterrows():\n",
        "    player_data['smoy'] = np.where((player_data['season'] == row['season']) & (player_data['player'] == row['player']) , True, player_data['smoy'])\n",
        "player_data = player_data.fillna(0)\n",
        "testing = player_data[player_data['season'] == 2023]\n",
        "print(testing.shape)\n",
        "testing = testing[testing['gs'] < 0.5 * testing['g']]\n",
        "print(testing.shape)\n",
        "sm_names = testing[['player']].values\n",
        "test_data = testing[[\"pts\", \"fg\", \"fg_percent\",\t\"x3p\",\t\"x3p_percent\",\t\"x2p\", \"x2p_percent\", \"e_fg_percent\", \"trb\",\t\"ast\",\t\"stl\",\t\"blk\", \"trb_per_game\", \"ast_per_game\", \"stl_per_game\", \"blk_per_game\", \"pts_per_game\"]].values\n",
        "test_data = preprocessing.StandardScaler().fit_transform(test_data)\n",
        "\n",
        "player_data = player_data[player_data['smoy'] == True]\n",
        "award_data = award_data[award_data[\"winner\"] == False].reset_index(drop=True)\n",
        "for index, row in award_data.iterrows():\n",
        "    player_data['smoy'] = np.where((player_data['season'] == row['season']) & (player_data['player'] == row['player']) , False, player_data['smoy'])"
      ],
      "metadata": {
        "colab": {
          "base_uri": "https://localhost:8080/"
        },
        "id": "bIQwkiFQfFwp",
        "outputId": "35161f32-b960-4e7a-b2c5-7f77ab88017f"
      },
      "execution_count": 35,
      "outputs": [
        {
          "output_type": "stream",
          "name": "stdout",
          "text": [
            "(476, 45)\n",
            "(303, 45)\n"
          ]
        }
      ]
    },
    {
      "cell_type": "code",
      "source": [
        "training = player_data[player_data['season'] >= 1980]\n",
        "training = player_data[player_data['season'] != 2023]\n",
        "X = training[[\"pts\", \"fg\", \"fg_percent\",\t\"x3p\",\t\"x3p_percent\",\t\"x2p\", \"x2p_percent\",\t\"e_fg_percent\",\"trb\",\t\"ast\",\t\"stl\",\t\"blk\", \"trb_per_game\", \"ast_per_game\", \"stl_per_game\", \"blk_per_game\", \"pts_per_game\"]].values\n",
        "y = training['smoy'].values\n",
        "X = preprocessing.StandardScaler().fit_transform(X)\n",
        "X_train, X_test, y_train, y_test = train_test_split(X, y, test_size=0.3, random_state=42)"
      ],
      "metadata": {
        "id": "DN6sVoJuhCaM"
      },
      "execution_count": 36,
      "outputs": []
    },
    {
      "cell_type": "code",
      "source": [
        "lr = LogisticRegression(random_state=0).fit(X_train, y_train)\n",
        "print(lr.score(X_test, y_test))"
      ],
      "metadata": {
        "colab": {
          "base_uri": "https://localhost:8080/"
        },
        "id": "eUu-T6nHhDJ8",
        "outputId": "3922592a-f62f-420e-d7c9-14a15f1c455e"
      },
      "execution_count": 37,
      "outputs": [
        {
          "output_type": "stream",
          "name": "stdout",
          "text": [
            "0.9225806451612903\n"
          ]
        }
      ]
    },
    {
      "cell_type": "code",
      "source": [
        "nb = GaussianNB().fit(X_train, y_train)\n",
        "print(nb.score(X_test, y_test))"
      ],
      "metadata": {
        "colab": {
          "base_uri": "https://localhost:8080/"
        },
        "id": "ERYl29t3hFPB",
        "outputId": "79b236a9-55a7-4380-ecfd-8505fd94e39f"
      },
      "execution_count": 38,
      "outputs": [
        {
          "output_type": "stream",
          "name": "stdout",
          "text": [
            "0.864516129032258\n"
          ]
        }
      ]
    },
    {
      "cell_type": "code",
      "source": [
        "rf = RandomForestClassifier(max_depth=10, random_state=0).fit(X_train, y_train)\n",
        "print(rf.score(X_test, y_test))"
      ],
      "metadata": {
        "colab": {
          "base_uri": "https://localhost:8080/"
        },
        "id": "TlhPjVuohHBs",
        "outputId": "6663fd76-37dd-4cdf-c2cc-6d86f2770b94"
      },
      "execution_count": 39,
      "outputs": [
        {
          "output_type": "stream",
          "name": "stdout",
          "text": [
            "0.9483870967741935\n"
          ]
        }
      ]
    },
    {
      "cell_type": "code",
      "source": [
        "mlp = MLPClassifier(random_state=42, max_iter=10000).fit(X_train, y_train)\n",
        "print(mlp.score(X_test, y_test))"
      ],
      "metadata": {
        "colab": {
          "base_uri": "https://localhost:8080/"
        },
        "id": "ZHHxbJS6hJuL",
        "outputId": "47187081-63a1-4e3c-b551-a89fb3c2e620"
      },
      "execution_count": 40,
      "outputs": [
        {
          "output_type": "stream",
          "name": "stdout",
          "text": [
            "0.9354838709677419\n"
          ]
        }
      ]
    },
    {
      "cell_type": "code",
      "source": [
        "knn = KNeighborsClassifier().fit(X_train, y_train)\n",
        "print(knn.score(X_test, y_test))"
      ],
      "metadata": {
        "colab": {
          "base_uri": "https://localhost:8080/"
        },
        "id": "zOFSva_khKbs",
        "outputId": "8a343df9-4ac5-4e0e-be06-f8a2558c90df"
      },
      "execution_count": 41,
      "outputs": [
        {
          "output_type": "stream",
          "name": "stdout",
          "text": [
            "0.9419354838709677\n"
          ]
        }
      ]
    },
    {
      "cell_type": "code",
      "source": [
        "svc = SVC().fit(X_train, y_train)\n",
        "print(svc.score(X_test, y_test))"
      ],
      "metadata": {
        "colab": {
          "base_uri": "https://localhost:8080/"
        },
        "id": "VmvV41bpNnPu",
        "outputId": "a8c8a534-7712-4cb9-a12d-ad7cd6c4d606"
      },
      "execution_count": 42,
      "outputs": [
        {
          "output_type": "stream",
          "name": "stdout",
          "text": [
            "0.9354838709677419\n"
          ]
        }
      ]
    },
    {
      "cell_type": "code",
      "source": [
        "RF_final = RandomForestClassifier(max_depth=10, random_state=0).fit(X, y)\n",
        "predictions = RF_final.predict_proba(test_data)\n",
        "predictions = predictions[:,1].reshape(-1,1)\n",
        "\n",
        "result = np.hstack((result, np.zeros(player_names.shape)))"
      ],
      "metadata": {
        "id": "MsfsuBHUhL7l"
      },
      "execution_count": 43,
      "outputs": []
    },
    {
      "cell_type": "code",
      "source": [
        "index = np.where(result[:,0] == sm_names)[1]\n",
        "j=0\n",
        "for i in index:\n",
        "  result[i][4] = predictions[j][0]\n",
        "  j += 1\n",
        "print(result)"
      ],
      "metadata": {
        "colab": {
          "base_uri": "https://localhost:8080/"
        },
        "id": "ctREcwXIhbH6",
        "outputId": "4cfb734f-df53-4cea-9b36-21356a194eb0"
      },
      "execution_count": 44,
      "outputs": [
        {
          "output_type": "stream",
          "name": "stdout",
          "text": [
            "[['A.J. Green' 0.0008093650650280947 0.01072426339225418\n",
            "  0.007088055037865785 0.0]\n",
            " ['A.J. Lawson' 0.0027298743839891276 0.014222035494533165\n",
            "  0.014046996284209363 0.01]\n",
            " ['Aaron Gordon' 0.3769596768703109 0.14828274956906737 0.0 0.0]\n",
            " ...\n",
            " ['Zach LaVine' 0.2721358388142685 0.05149800693934051 0.0 0.0]\n",
            " ['Zeke Nnaji' 0.0022131564137340947 0.013776547848415735 0.0 0.01]\n",
            " ['Zion Williamson' 0.4437932461110177 0.13118835495295053 0.0 0.0]]\n"
          ]
        }
      ]
    },
    {
      "cell_type": "code",
      "source": [
        "df = pd.DataFrame(result, columns = ['Player Name', 'p(MVP)', 'p(DPOY)', 'p(ROY)', 'p(SMOY)'])\n",
        "df['p(MVP)'] = df['p(MVP)'] * 100\n",
        "df['p(MVP)'] = df['p(MVP)'].astype(float).round(3)\n",
        "df['p(DPOY)'] = df['p(DPOY)'] * 100\n",
        "df['p(DPOY)'] = df['p(DPOY)'].astype(float).round(3)\n",
        "df['p(ROY)'] = df['p(ROY)'] * 100\n",
        "df['p(ROY)'] = df['p(ROY)'].astype(float).round(3)\n",
        "df['p(SMOY)'] = df['p(SMOY)'] * 100\n",
        "df['p(SMOY)'] = df['p(SMOY)'].astype(float).round(3)\n",
        "df.to_csv('Player Results.csv', index=None)"
      ],
      "metadata": {
        "id": "yiS9S6LmholH"
      },
      "execution_count": 45,
      "outputs": []
    }
  ]
}