{
  "nbformat": 4,
  "nbformat_minor": 0,
  "metadata": {
    "colab": {
      "provenance": []
    },
    "kernelspec": {
      "name": "python3",
      "display_name": "Python 3"
    },
    "language_info": {
      "name": "python"
    }
  },
  "cells": [
    {
      "cell_type": "code",
      "execution_count": 3,
      "metadata": {
        "id": "Z38p-PvENJqe"
      },
      "outputs": [],
      "source": [
        "import pandas as pd\n",
        "import numpy as np\n",
        "from sklearn.linear_model import LogisticRegression\n",
        "from sklearn.naive_bayes import GaussianNB\n",
        "from sklearn.ensemble import RandomForestClassifier\n",
        "from sklearn.neighbors import KNeighborsClassifier\n",
        "from sklearn.neural_network import MLPClassifier\n",
        "from sklearn.svm import SVC\n",
        "from sklearn import preprocessing\n",
        "from sklearn.model_selection import train_test_split"
      ]
    },
    {
      "cell_type": "code",
      "source": [
        "team_data = pd.read_csv(\"Team Summaries.csv\")"
      ],
      "metadata": {
        "id": "GFTXs-6RNk5Q"
      },
      "execution_count": 4,
      "outputs": []
    },
    {
      "cell_type": "code",
      "source": [
        "team_data = team_data[team_data['season'] >= 1980]\n",
        "team_data = team_data[team_data['team'] != 'League Average'].reset_index(drop=True)\n",
        "X = team_data[[\"mov\", \"sos\",\t\"srs\",\t\"o_rtg\",\t\"d_rtg\",\t\"n_rtg\",\t\"pace\",\t\"f_tr\",\t\"x3p_ar\",\t\"ts_percent\",\t\"e_fg_percent\",\t\"tov_percent\",\t\"orb_percent\",\t\"ft_fga\",\t\"opp_e_fg_percent\",\t\"opp_tov_percent\",\t\"opp_drb_percent\",\t\"opp_ft_fga\"]].values\n",
        "y = team_data[\"playoffs\"].values\n",
        "\n",
        "X = preprocessing.StandardScaler().fit_transform(X)\n",
        "X_train, X_test, y_train, y_test = train_test_split(X, y, test_size=0.3, random_state=42)"
      ],
      "metadata": {
        "id": "TIorinYiNr3P"
      },
      "execution_count": 5,
      "outputs": []
    },
    {
      "cell_type": "code",
      "source": [
        "test_data = team_data[team_data['season'] == 2023]\n",
        "team_names = test_data[\"team\"].values.reshape(-1,1)\n",
        "team_names = np.array(team_names)\n",
        "test_data = test_data[[\"mov\", \"sos\",\t\"srs\",\t\"o_rtg\",\t\"d_rtg\",\t\"n_rtg\",\t\"pace\",\t\"f_tr\",\t\"x3p_ar\",\t\"ts_percent\",\t\"e_fg_percent\",\t\"tov_percent\",\t\"orb_percent\",\t\"ft_fga\",\t\"opp_e_fg_percent\",\t\"opp_tov_percent\",\t\"opp_drb_percent\",\t\"opp_ft_fga\"]].values\n",
        "test_data = preprocessing.StandardScaler().fit_transform(test_data)"
      ],
      "metadata": {
        "id": "8IlzWNr2NsSn"
      },
      "execution_count": 6,
      "outputs": []
    },
    {
      "cell_type": "code",
      "source": [
        "lr = LogisticRegression(random_state=0).fit(X_train, y_train)\n",
        "print(lr.score(X_test, y_test))"
      ],
      "metadata": {
        "colab": {
          "base_uri": "https://localhost:8080/"
        },
        "id": "uqSlrjbhmnSv",
        "outputId": "b389977e-9ec8-4900-ce77-5059d963adef"
      },
      "execution_count": 7,
      "outputs": [
        {
          "output_type": "stream",
          "name": "stdout",
          "text": [
            "0.9211956521739131\n"
          ]
        }
      ]
    },
    {
      "cell_type": "code",
      "source": [
        "nb = GaussianNB().fit(X_train, y_train)\n",
        "print(nb.score(X_test, y_test))"
      ],
      "metadata": {
        "colab": {
          "base_uri": "https://localhost:8080/"
        },
        "id": "K3VrcmHnwnMr",
        "outputId": "2f370d55-75e4-46f3-9484-4d469328c7cd"
      },
      "execution_count": 8,
      "outputs": [
        {
          "output_type": "stream",
          "name": "stdout",
          "text": [
            "0.9157608695652174\n"
          ]
        }
      ]
    },
    {
      "cell_type": "code",
      "source": [
        "rf = RandomForestClassifier(max_depth=10, random_state=0).fit(X_train, y_train)\n",
        "print(rf.score(X_test, y_test))"
      ],
      "metadata": {
        "colab": {
          "base_uri": "https://localhost:8080/"
        },
        "id": "kKUtYckoxJ3Q",
        "outputId": "04f869b6-1c16-48d9-da92-b379ae93f3eb"
      },
      "execution_count": 9,
      "outputs": [
        {
          "output_type": "stream",
          "name": "stdout",
          "text": [
            "0.9184782608695652\n"
          ]
        }
      ]
    },
    {
      "cell_type": "code",
      "source": [
        "mlp = MLPClassifier(random_state=42, max_iter=10000).fit(X_train, y_train)\n",
        "print(mlp.score(X_test, y_test))"
      ],
      "metadata": {
        "colab": {
          "base_uri": "https://localhost:8080/"
        },
        "id": "v0OS2X2cxkNe",
        "outputId": "c3a0af8e-41ee-462f-a3b5-78ee751207c3"
      },
      "execution_count": 13,
      "outputs": [
        {
          "output_type": "stream",
          "name": "stdout",
          "text": [
            "0.8804347826086957\n"
          ]
        }
      ]
    },
    {
      "cell_type": "code",
      "source": [
        "knn = KNeighborsClassifier().fit(X_train, y_train)\n",
        "print(knn.score(X_test, y_test))"
      ],
      "metadata": {
        "colab": {
          "base_uri": "https://localhost:8080/"
        },
        "id": "L5hubk3EyEaw",
        "outputId": "d0caeee4-5d25-432c-b306-be79d6aa545a"
      },
      "execution_count": 14,
      "outputs": [
        {
          "output_type": "stream",
          "name": "stdout",
          "text": [
            "0.8722826086956522\n"
          ]
        }
      ]
    },
    {
      "cell_type": "code",
      "source": [
        "svc = SVC().fit(X_train, y_train)\n",
        "print(svc.score(X_test, y_test))"
      ],
      "metadata": {
        "colab": {
          "base_uri": "https://localhost:8080/"
        },
        "id": "41iOo84lChgj",
        "outputId": "09590c20-92b7-4c41-c32b-a55760585e97"
      },
      "execution_count": 15,
      "outputs": [
        {
          "output_type": "stream",
          "name": "stdout",
          "text": [
            "0.8913043478260869\n"
          ]
        }
      ]
    },
    {
      "cell_type": "code",
      "source": [
        "lr_final = LogisticRegression(random_state=0).fit(X, y)\n",
        "predictions = lr_final.predict_proba(test_data)\n",
        "p_arr = predictions[:,1].reshape(-1,1)"
      ],
      "metadata": {
        "id": "C9Fok4ntpUVN"
      },
      "execution_count": 16,
      "outputs": []
    },
    {
      "cell_type": "code",
      "source": [
        "result = np.hstack((team_names, p_arr))\n",
        "df = pd.DataFrame(result, columns = ['Team Name', 'p(Playoffs)'])\n",
        "df['p(Playoffs)'] = df['p(Playoffs)'] * 100\n",
        "df['p(Playoffs)'] = df['p(Playoffs)'].astype(float).round(3)\n",
        "df.to_csv('Team Results.csv', index=None)\n"
      ],
      "metadata": {
        "id": "s2w_Aa6ez-Nc"
      },
      "execution_count": 28,
      "outputs": []
    }
  ]
}